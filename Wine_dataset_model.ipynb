{
  "nbformat": 4,
  "nbformat_minor": 0,
  "metadata": {
    "colab": {
      "provenance": [],
      "authorship_tag": "ABX9TyOzNzom+YGcjg54+EKviSe3",
      "include_colab_link": true
    },
    "kernelspec": {
      "name": "python3",
      "display_name": "Python 3"
    },
    "language_info": {
      "name": "python"
    }
  },
  "cells": [
    {
      "cell_type": "markdown",
      "metadata": {
        "id": "view-in-github",
        "colab_type": "text"
      },
      "source": [
        "<a href=\"https://colab.research.google.com/github/bilal99u/wine_model/blob/main/Wine_dataset_model.ipynb\" target=\"_parent\"><img src=\"https://colab.research.google.com/assets/colab-badge.svg\" alt=\"Open In Colab\"/></a>"
      ]
    },
    {
      "cell_type": "code",
      "source": [
        "from sklearn.datasets import load_wine\n",
        "import pandas as pd\n",
        "from sklearn.model_selection import train_test_split\n",
        "from sklearn.naive_bayes import GaussianNB\n",
        "from sklearn.metrics import accuracy_score\n",
        "from sklearn.preprocessing import StandardScaler\n",
        "from sklearn.preprocessing import MinMaxScaler\n",
        "\n",
        "\n",
        "\n",
        "# Load dataset\n",
        "wine = load_wine()\n",
        "\n",
        "# Create a DataFrame\n",
        "X = pd.DataFrame(wine.data, columns=wine.feature_names)\n",
        "y = pd.Series(wine.target, name=\"target\")\n",
        "\n",
        "# View the first few rows\n",
        "X.head()\n",
        "\n",
        "print(\"Shape of feature matrix:\", X.shape)  # (178, 13)\n",
        "print(\"Number of target classes:\", len(set(y)))  # 3 classes: 0, 1, 2\n",
        "print(\"Class distribution:\\n\", y.value_counts())\n",
        "# X['magnesium'] = X['magnesium'] * 100 for experiment 1\n",
        "X['magnesium'] = X['magnesium'] * 10000000         # 10000000 scale for experiment 2\n",
        "\n",
        "\n",
        "X_train, X_test, y_train, y_test = train_test_split(X, y, test_size=0.3, random_state=25)\n",
        "\n",
        "\n",
        "model = GaussianNB()\n",
        "model.fit(X_train, y_train)\n",
        "y_pred = model.predict(X_test)\n",
        "acc_no_scaling = accuracy_score(y_test, y_pred)\n",
        "\n",
        "print(\"Accuracy without scaling:\", acc_no_scaling)\n",
        "# Initialize the scaler\n",
        "scaler_std = StandardScaler()\n",
        "\n",
        "# Fit only on training data, transform both sets\n",
        "X_train_std = scaler_std.fit_transform(X_train)\n",
        "X_test_std = scaler_std.transform(X_test)\n",
        "\n",
        "# Train GaussianNB on scaled data\n",
        "model_std = GaussianNB()\n",
        "model_std.fit(X_train_std, y_train)\n",
        "y_pred_std = model_std.predict(X_test_std)\n",
        "\n",
        "# Accuracy\n",
        "acc_std = accuracy_score(y_test, y_pred_std)\n",
        "print(\"Accuracy with StandardScaler:\", acc_std)\n",
        "\n",
        "\n",
        "\n",
        "# Initialize the scaler\n",
        "scaler_mm = MinMaxScaler()\n",
        "\n",
        "# Fit and transform\n",
        "X_train_mm = scaler_mm.fit_transform(X_train)\n",
        "X_test_mm = scaler_mm.transform(X_test)\n",
        "\n",
        "# Train and predict\n",
        "model_mm = GaussianNB()\n",
        "model_mm.fit(X_train_mm, y_train)\n",
        "y_pred_mm = model_mm.predict(X_test_mm)\n",
        "\n",
        "# Accuracy\n",
        "acc_mm = accuracy_score(y_test, y_pred_mm)\n",
        "\n",
        "\n",
        "print(\"Accuracy without scaling:     \", acc_no_scaling)\n",
        "print(\"Accuracy with StandardScaler: \", acc_std)\n",
        "print(\"Accuracy with MinMaxScaler:   \", acc_mm)\n",
        "\n"
      ],
      "metadata": {
        "colab": {
          "base_uri": "https://localhost:8080/"
        },
        "id": "woMKbMHBxDsQ",
        "outputId": "0b97be1c-c0b2-4715-d060-d4ecabff3c17"
      },
      "execution_count": null,
      "outputs": [
        {
          "output_type": "stream",
          "name": "stdout",
          "text": [
            "Shape of feature matrix: (178, 13)\n",
            "Number of target classes: 3\n",
            "Class distribution:\n",
            " target\n",
            "1    71\n",
            "0    59\n",
            "2    48\n",
            "Name: count, dtype: int64\n",
            "Accuracy without scaling: 0.46296296296296297\n",
            "Accuracy with StandardScaler: 0.9814814814814815\n",
            "Accuracy without scaling:      0.46296296296296297\n",
            "Accuracy with StandardScaler:  0.9814814814814815\n",
            "Accuracy with MinMaxScaler:    0.9814814814814815\n"
          ]
        }
      ]
    }
  ]
}